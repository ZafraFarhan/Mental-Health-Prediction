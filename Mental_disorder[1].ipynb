{
 "cells": [
  {
   "cell_type": "code",
   "execution_count": 74,
   "id": "bee04130-6da7-4a2e-951e-0b6c84ee1f72",
   "metadata": {},
   "outputs": [],
   "source": [
    "import numpy as np\n",
    "import pandas as pd\n",
    "import matplotlib.pyplot as plt\n",
    "import seaborn as sns"
   ]
  },
  {
   "cell_type": "code",
   "execution_count": 75,
   "id": "a87531b4-c3b2-4dbc-8460-dc31d3322306",
   "metadata": {},
   "outputs": [
    {
     "data": {
      "text/html": [
       "<div>\n",
       "<style scoped>\n",
       "    .dataframe tbody tr th:only-of-type {\n",
       "        vertical-align: middle;\n",
       "    }\n",
       "\n",
       "    .dataframe tbody tr th {\n",
       "        vertical-align: top;\n",
       "    }\n",
       "\n",
       "    .dataframe thead th {\n",
       "        text-align: right;\n",
       "    }\n",
       "</style>\n",
       "<table border=\"1\" class=\"dataframe\">\n",
       "  <thead>\n",
       "    <tr style=\"text-align: right;\">\n",
       "      <th></th>\n",
       "      <th>Patient Number</th>\n",
       "      <th>Sadness</th>\n",
       "      <th>Euphoric</th>\n",
       "      <th>Exhausted</th>\n",
       "      <th>Sleep dissorder</th>\n",
       "      <th>Mood Swing</th>\n",
       "      <th>Suicidal thoughts</th>\n",
       "      <th>Anorxia</th>\n",
       "      <th>Authority Respect</th>\n",
       "      <th>Try-Explanation</th>\n",
       "      <th>Aggressive Response</th>\n",
       "      <th>Ignore &amp; Move-On</th>\n",
       "      <th>Nervous Break-down</th>\n",
       "      <th>Admit Mistakes</th>\n",
       "      <th>Overthinking</th>\n",
       "      <th>Sexual Activity</th>\n",
       "      <th>Concentration</th>\n",
       "      <th>Optimisim</th>\n",
       "      <th>Expert Diagnose</th>\n",
       "    </tr>\n",
       "  </thead>\n",
       "  <tbody>\n",
       "    <tr>\n",
       "      <th>0</th>\n",
       "      <td>Patiant-01</td>\n",
       "      <td>Usually</td>\n",
       "      <td>Seldom</td>\n",
       "      <td>Sometimes</td>\n",
       "      <td>Sometimes</td>\n",
       "      <td>YES</td>\n",
       "      <td>YES</td>\n",
       "      <td>NO</td>\n",
       "      <td>NO</td>\n",
       "      <td>YES</td>\n",
       "      <td>NO</td>\n",
       "      <td>NO</td>\n",
       "      <td>YES</td>\n",
       "      <td>YES</td>\n",
       "      <td>YES</td>\n",
       "      <td>3 From 10</td>\n",
       "      <td>3 From 10</td>\n",
       "      <td>4 From 10</td>\n",
       "      <td>Bipolar Type-2</td>\n",
       "    </tr>\n",
       "    <tr>\n",
       "      <th>1</th>\n",
       "      <td>Patiant-02</td>\n",
       "      <td>Usually</td>\n",
       "      <td>Seldom</td>\n",
       "      <td>Usually</td>\n",
       "      <td>Sometimes</td>\n",
       "      <td>NO</td>\n",
       "      <td>YES</td>\n",
       "      <td>NO</td>\n",
       "      <td>NO</td>\n",
       "      <td>NO</td>\n",
       "      <td>NO</td>\n",
       "      <td>NO</td>\n",
       "      <td>NO</td>\n",
       "      <td>NO</td>\n",
       "      <td>NO</td>\n",
       "      <td>4 From 10</td>\n",
       "      <td>2 From 10</td>\n",
       "      <td>5 From 10</td>\n",
       "      <td>Depression</td>\n",
       "    </tr>\n",
       "    <tr>\n",
       "      <th>2</th>\n",
       "      <td>Patiant-03</td>\n",
       "      <td>Sometimes</td>\n",
       "      <td>Most-Often</td>\n",
       "      <td>Sometimes</td>\n",
       "      <td>Sometimes</td>\n",
       "      <td>YES</td>\n",
       "      <td>NO</td>\n",
       "      <td>NO</td>\n",
       "      <td>NO</td>\n",
       "      <td>YES</td>\n",
       "      <td>YES</td>\n",
       "      <td>NO</td>\n",
       "      <td>YES</td>\n",
       "      <td>YES</td>\n",
       "      <td>NO</td>\n",
       "      <td>6 From 10</td>\n",
       "      <td>5 From 10</td>\n",
       "      <td>7 From 10</td>\n",
       "      <td>Bipolar Type-1</td>\n",
       "    </tr>\n",
       "    <tr>\n",
       "      <th>3</th>\n",
       "      <td>Patiant-04</td>\n",
       "      <td>Usually</td>\n",
       "      <td>Seldom</td>\n",
       "      <td>Usually</td>\n",
       "      <td>Most-Often</td>\n",
       "      <td>YES</td>\n",
       "      <td>YES</td>\n",
       "      <td>YES</td>\n",
       "      <td>NO</td>\n",
       "      <td>YES</td>\n",
       "      <td>NO</td>\n",
       "      <td>NO</td>\n",
       "      <td>NO</td>\n",
       "      <td>NO</td>\n",
       "      <td>NO</td>\n",
       "      <td>3 From 10</td>\n",
       "      <td>2 From 10</td>\n",
       "      <td>2 From 10</td>\n",
       "      <td>Bipolar Type-2</td>\n",
       "    </tr>\n",
       "    <tr>\n",
       "      <th>4</th>\n",
       "      <td>Patiant-05</td>\n",
       "      <td>Usually</td>\n",
       "      <td>Usually</td>\n",
       "      <td>Sometimes</td>\n",
       "      <td>Sometimes</td>\n",
       "      <td>NO</td>\n",
       "      <td>NO</td>\n",
       "      <td>NO</td>\n",
       "      <td>NO</td>\n",
       "      <td>NO</td>\n",
       "      <td>NO</td>\n",
       "      <td>NO</td>\n",
       "      <td>YES</td>\n",
       "      <td>YES</td>\n",
       "      <td>YES</td>\n",
       "      <td>5 From 10</td>\n",
       "      <td>5 From 10</td>\n",
       "      <td>6 From 10</td>\n",
       "      <td>Normal</td>\n",
       "    </tr>\n",
       "  </tbody>\n",
       "</table>\n",
       "</div>"
      ],
      "text/plain": [
       "  Patient Number    Sadness    Euphoric  Exhausted Sleep dissorder Mood Swing  \\\n",
       "0     Patiant-01    Usually      Seldom  Sometimes       Sometimes        YES   \n",
       "1     Patiant-02    Usually      Seldom    Usually       Sometimes         NO   \n",
       "2     Patiant-03  Sometimes  Most-Often  Sometimes       Sometimes        YES   \n",
       "3     Patiant-04    Usually      Seldom    Usually      Most-Often        YES   \n",
       "4     Patiant-05    Usually     Usually  Sometimes       Sometimes         NO   \n",
       "\n",
       "  Suicidal thoughts Anorxia Authority Respect Try-Explanation  \\\n",
       "0              YES       NO                NO             YES   \n",
       "1               YES      NO                NO              NO   \n",
       "2                NO      NO                NO             YES   \n",
       "3               YES     YES                NO             YES   \n",
       "4                NO      NO                NO              NO   \n",
       "\n",
       "  Aggressive Response Ignore & Move-On Nervous Break-down Admit Mistakes  \\\n",
       "0                  NO               NO                YES            YES   \n",
       "1                  NO               NO                 NO             NO   \n",
       "2                 YES               NO                YES            YES   \n",
       "3                  NO               NO                 NO             NO   \n",
       "4                  NO               NO                YES            YES   \n",
       "\n",
       "  Overthinking Sexual Activity Concentration  Optimisim Expert Diagnose  \n",
       "0          YES       3 From 10     3 From 10  4 From 10  Bipolar Type-2  \n",
       "1           NO       4 From 10     2 From 10  5 From 10      Depression  \n",
       "2           NO       6 From 10     5 From 10  7 From 10  Bipolar Type-1  \n",
       "3           NO       3 From 10     2 From 10  2 From 10  Bipolar Type-2  \n",
       "4          YES       5 From 10     5 From 10  6 From 10          Normal  "
      ]
     },
     "execution_count": 75,
     "metadata": {},
     "output_type": "execute_result"
    }
   ],
   "source": [
    "df = pd.read_csv(\"Dataset-Mental-Disorders.csv\")\n",
    "df.head()"
   ]
  },
  {
   "cell_type": "code",
   "execution_count": 76,
   "id": "5cc31cee-b355-4645-808d-0447d4d305ca",
   "metadata": {},
   "outputs": [],
   "source": [
    "df.drop('Patient Number',inplace=True,axis=1)"
   ]
  },
  {
   "cell_type": "code",
   "execution_count": 77,
   "id": "a3a5ab7b-1111-4309-a1c7-a4875261895e",
   "metadata": {},
   "outputs": [
    {
     "name": "stdout",
     "output_type": "stream",
     "text": [
      "Sadness: ['Usually' 'Sometimes' 'Seldom' 'Most-Often']\n",
      "Euphoric: ['Seldom' 'Most-Often' 'Usually' 'Sometimes']\n",
      "Exhausted: ['Sometimes' 'Usually' 'Seldom' 'Most-Often']\n",
      "Sleep dissorder: ['Sometimes' 'Most-Often' 'Usually' 'Seldom']\n",
      "Mood Swing: ['YES' 'NO']\n",
      "Suicidal thoughts: ['YES ' 'YES' 'NO']\n",
      "Anorxia: ['NO' 'YES']\n",
      "Authority Respect: ['NO' 'YES']\n",
      "Try-Explanation: ['YES' 'NO']\n",
      "Aggressive Response: ['NO' 'YES']\n",
      "Ignore & Move-On: ['NO' 'YES']\n",
      "Nervous Break-down: ['YES' 'NO']\n",
      "Admit Mistakes: ['YES' 'NO']\n",
      "Overthinking: ['YES' 'NO']\n",
      "Sexual Activity: ['3 From 10' '4 From 10' '6 From 10' '5 From 10' '7 From 10' '8 From 10'\n",
      " '9 From 10' '2 From 10' '1 From 10']\n",
      "Concentration: ['3 From 10' '2 From 10' '5 From 10' '4 From 10' '7 From 10' '6 From 10'\n",
      " '1 From 10' '8 From 10']\n",
      "Optimisim: ['4 From 10' '5 From 10' '7 From 10' '2 From 10' '6 From 10' '9 From 10'\n",
      " '3 From 10' '8 From 10' '1 From 10']\n",
      "Expert Diagnose: ['Bipolar Type-2' 'Depression' 'Bipolar Type-1' 'Normal']\n"
     ]
    }
   ],
   "source": [
    "for i in df.columns:\n",
    "    print(f\"{i}: {df[i].unique()}\")"
   ]
  },
  {
   "cell_type": "code",
   "execution_count": 78,
   "id": "d8db2aae-bf37-4e4a-9b0a-4e453ca6732c",
   "metadata": {},
   "outputs": [
    {
     "data": {
      "text/html": [
       "<div>\n",
       "<style scoped>\n",
       "    .dataframe tbody tr th:only-of-type {\n",
       "        vertical-align: middle;\n",
       "    }\n",
       "\n",
       "    .dataframe tbody tr th {\n",
       "        vertical-align: top;\n",
       "    }\n",
       "\n",
       "    .dataframe thead th {\n",
       "        text-align: right;\n",
       "    }\n",
       "</style>\n",
       "<table border=\"1\" class=\"dataframe\">\n",
       "  <thead>\n",
       "    <tr style=\"text-align: right;\">\n",
       "      <th></th>\n",
       "      <th>Sadness</th>\n",
       "      <th>Euphoric</th>\n",
       "      <th>Exhausted</th>\n",
       "      <th>Sleep dissorder</th>\n",
       "      <th>Mood Swing</th>\n",
       "      <th>Suicidal thoughts</th>\n",
       "      <th>Anorxia</th>\n",
       "      <th>Authority Respect</th>\n",
       "      <th>Try-Explanation</th>\n",
       "      <th>Aggressive Response</th>\n",
       "      <th>Ignore &amp; Move-On</th>\n",
       "      <th>Nervous Break-down</th>\n",
       "      <th>Admit Mistakes</th>\n",
       "      <th>Overthinking</th>\n",
       "      <th>Sexual Activity</th>\n",
       "      <th>Concentration</th>\n",
       "      <th>Optimisim</th>\n",
       "      <th>Expert Diagnose</th>\n",
       "    </tr>\n",
       "  </thead>\n",
       "  <tbody>\n",
       "    <tr>\n",
       "      <th>0</th>\n",
       "      <td>3</td>\n",
       "      <td>1</td>\n",
       "      <td>2</td>\n",
       "      <td>2</td>\n",
       "      <td>YES</td>\n",
       "      <td>YES</td>\n",
       "      <td>NO</td>\n",
       "      <td>NO</td>\n",
       "      <td>YES</td>\n",
       "      <td>NO</td>\n",
       "      <td>NO</td>\n",
       "      <td>YES</td>\n",
       "      <td>YES</td>\n",
       "      <td>YES</td>\n",
       "      <td>3 From 10</td>\n",
       "      <td>3 From 10</td>\n",
       "      <td>4 From 10</td>\n",
       "      <td>Bipolar Type-2</td>\n",
       "    </tr>\n",
       "    <tr>\n",
       "      <th>1</th>\n",
       "      <td>3</td>\n",
       "      <td>1</td>\n",
       "      <td>3</td>\n",
       "      <td>2</td>\n",
       "      <td>NO</td>\n",
       "      <td>YES</td>\n",
       "      <td>NO</td>\n",
       "      <td>NO</td>\n",
       "      <td>NO</td>\n",
       "      <td>NO</td>\n",
       "      <td>NO</td>\n",
       "      <td>NO</td>\n",
       "      <td>NO</td>\n",
       "      <td>NO</td>\n",
       "      <td>4 From 10</td>\n",
       "      <td>2 From 10</td>\n",
       "      <td>5 From 10</td>\n",
       "      <td>Depression</td>\n",
       "    </tr>\n",
       "    <tr>\n",
       "      <th>2</th>\n",
       "      <td>2</td>\n",
       "      <td>4</td>\n",
       "      <td>2</td>\n",
       "      <td>2</td>\n",
       "      <td>YES</td>\n",
       "      <td>NO</td>\n",
       "      <td>NO</td>\n",
       "      <td>NO</td>\n",
       "      <td>YES</td>\n",
       "      <td>YES</td>\n",
       "      <td>NO</td>\n",
       "      <td>YES</td>\n",
       "      <td>YES</td>\n",
       "      <td>NO</td>\n",
       "      <td>6 From 10</td>\n",
       "      <td>5 From 10</td>\n",
       "      <td>7 From 10</td>\n",
       "      <td>Bipolar Type-1</td>\n",
       "    </tr>\n",
       "    <tr>\n",
       "      <th>3</th>\n",
       "      <td>3</td>\n",
       "      <td>1</td>\n",
       "      <td>3</td>\n",
       "      <td>4</td>\n",
       "      <td>YES</td>\n",
       "      <td>YES</td>\n",
       "      <td>YES</td>\n",
       "      <td>NO</td>\n",
       "      <td>YES</td>\n",
       "      <td>NO</td>\n",
       "      <td>NO</td>\n",
       "      <td>NO</td>\n",
       "      <td>NO</td>\n",
       "      <td>NO</td>\n",
       "      <td>3 From 10</td>\n",
       "      <td>2 From 10</td>\n",
       "      <td>2 From 10</td>\n",
       "      <td>Bipolar Type-2</td>\n",
       "    </tr>\n",
       "    <tr>\n",
       "      <th>4</th>\n",
       "      <td>3</td>\n",
       "      <td>3</td>\n",
       "      <td>2</td>\n",
       "      <td>2</td>\n",
       "      <td>NO</td>\n",
       "      <td>NO</td>\n",
       "      <td>NO</td>\n",
       "      <td>NO</td>\n",
       "      <td>NO</td>\n",
       "      <td>NO</td>\n",
       "      <td>NO</td>\n",
       "      <td>YES</td>\n",
       "      <td>YES</td>\n",
       "      <td>YES</td>\n",
       "      <td>5 From 10</td>\n",
       "      <td>5 From 10</td>\n",
       "      <td>6 From 10</td>\n",
       "      <td>Normal</td>\n",
       "    </tr>\n",
       "  </tbody>\n",
       "</table>\n",
       "</div>"
      ],
      "text/plain": [
       "   Sadness  Euphoric  Exhausted  Sleep dissorder Mood Swing Suicidal thoughts  \\\n",
       "0        3         1          2                2        YES              YES    \n",
       "1        3         1          3                2         NO               YES   \n",
       "2        2         4          2                2        YES                NO   \n",
       "3        3         1          3                4        YES               YES   \n",
       "4        3         3          2                2         NO                NO   \n",
       "\n",
       "  Anorxia Authority Respect Try-Explanation Aggressive Response  \\\n",
       "0      NO                NO             YES                  NO   \n",
       "1      NO                NO              NO                  NO   \n",
       "2      NO                NO             YES                 YES   \n",
       "3     YES                NO             YES                  NO   \n",
       "4      NO                NO              NO                  NO   \n",
       "\n",
       "  Ignore & Move-On Nervous Break-down Admit Mistakes Overthinking  \\\n",
       "0               NO                YES            YES          YES   \n",
       "1               NO                 NO             NO           NO   \n",
       "2               NO                YES            YES           NO   \n",
       "3               NO                 NO             NO           NO   \n",
       "4               NO                YES            YES          YES   \n",
       "\n",
       "  Sexual Activity Concentration  Optimisim Expert Diagnose  \n",
       "0       3 From 10     3 From 10  4 From 10  Bipolar Type-2  \n",
       "1       4 From 10     2 From 10  5 From 10      Depression  \n",
       "2       6 From 10     5 From 10  7 From 10  Bipolar Type-1  \n",
       "3       3 From 10     2 From 10  2 From 10  Bipolar Type-2  \n",
       "4       5 From 10     5 From 10  6 From 10          Normal  "
      ]
     },
     "execution_count": 78,
     "metadata": {},
     "output_type": "execute_result"
    }
   ],
   "source": [
    "df['Sadness'] = df['Sadness'].map({'Usually':3, 'Sometimes':2, 'Seldom':1, 'Most-Often':4}) \n",
    "df['Euphoric'] = df['Euphoric'].map({'Usually':3, 'Sometimes':2, 'Seldom':1, 'Most-Often':4}) \n",
    "df['Exhausted'] = df['Exhausted'].map({'Usually':3, 'Sometimes':2, 'Seldom':1, 'Most-Often':4}) \n",
    "df['Sleep dissorder'] = df['Sleep dissorder'].map({'Usually':3, 'Sometimes':2, 'Seldom':1, 'Most-Often':4}) \n",
    "df.head()"
   ]
  },
  {
   "cell_type": "code",
   "execution_count": 79,
   "id": "95b1c2da-633c-4ad5-a2b8-2e92d9a47f3b",
   "metadata": {},
   "outputs": [
    {
     "data": {
      "text/html": [
       "<div>\n",
       "<style scoped>\n",
       "    .dataframe tbody tr th:only-of-type {\n",
       "        vertical-align: middle;\n",
       "    }\n",
       "\n",
       "    .dataframe tbody tr th {\n",
       "        vertical-align: top;\n",
       "    }\n",
       "\n",
       "    .dataframe thead th {\n",
       "        text-align: right;\n",
       "    }\n",
       "</style>\n",
       "<table border=\"1\" class=\"dataframe\">\n",
       "  <thead>\n",
       "    <tr style=\"text-align: right;\">\n",
       "      <th></th>\n",
       "      <th>Sadness</th>\n",
       "      <th>Euphoric</th>\n",
       "      <th>Exhausted</th>\n",
       "      <th>Sleep dissorder</th>\n",
       "      <th>Mood Swing</th>\n",
       "      <th>Suicidal thoughts</th>\n",
       "      <th>Anorxia</th>\n",
       "      <th>Authority Respect</th>\n",
       "      <th>Try-Explanation</th>\n",
       "      <th>Aggressive Response</th>\n",
       "      <th>Ignore &amp; Move-On</th>\n",
       "      <th>Nervous Break-down</th>\n",
       "      <th>Admit Mistakes</th>\n",
       "      <th>Overthinking</th>\n",
       "      <th>Sexual Activity</th>\n",
       "      <th>Concentration</th>\n",
       "      <th>Optimisim</th>\n",
       "      <th>Expert Diagnose</th>\n",
       "    </tr>\n",
       "  </thead>\n",
       "  <tbody>\n",
       "    <tr>\n",
       "      <th>0</th>\n",
       "      <td>3</td>\n",
       "      <td>1</td>\n",
       "      <td>2</td>\n",
       "      <td>2</td>\n",
       "      <td>YES</td>\n",
       "      <td>YES</td>\n",
       "      <td>NO</td>\n",
       "      <td>NO</td>\n",
       "      <td>YES</td>\n",
       "      <td>NO</td>\n",
       "      <td>NO</td>\n",
       "      <td>YES</td>\n",
       "      <td>YES</td>\n",
       "      <td>YES</td>\n",
       "      <td>2</td>\n",
       "      <td>2</td>\n",
       "      <td>2</td>\n",
       "      <td>Bipolar Type-2</td>\n",
       "    </tr>\n",
       "    <tr>\n",
       "      <th>1</th>\n",
       "      <td>3</td>\n",
       "      <td>1</td>\n",
       "      <td>3</td>\n",
       "      <td>2</td>\n",
       "      <td>NO</td>\n",
       "      <td>YES</td>\n",
       "      <td>NO</td>\n",
       "      <td>NO</td>\n",
       "      <td>NO</td>\n",
       "      <td>NO</td>\n",
       "      <td>NO</td>\n",
       "      <td>NO</td>\n",
       "      <td>NO</td>\n",
       "      <td>NO</td>\n",
       "      <td>2</td>\n",
       "      <td>1</td>\n",
       "      <td>3</td>\n",
       "      <td>Depression</td>\n",
       "    </tr>\n",
       "    <tr>\n",
       "      <th>2</th>\n",
       "      <td>2</td>\n",
       "      <td>4</td>\n",
       "      <td>2</td>\n",
       "      <td>2</td>\n",
       "      <td>YES</td>\n",
       "      <td>NO</td>\n",
       "      <td>NO</td>\n",
       "      <td>NO</td>\n",
       "      <td>YES</td>\n",
       "      <td>YES</td>\n",
       "      <td>NO</td>\n",
       "      <td>YES</td>\n",
       "      <td>YES</td>\n",
       "      <td>NO</td>\n",
       "      <td>3</td>\n",
       "      <td>3</td>\n",
       "      <td>4</td>\n",
       "      <td>Bipolar Type-1</td>\n",
       "    </tr>\n",
       "    <tr>\n",
       "      <th>3</th>\n",
       "      <td>3</td>\n",
       "      <td>1</td>\n",
       "      <td>3</td>\n",
       "      <td>4</td>\n",
       "      <td>YES</td>\n",
       "      <td>YES</td>\n",
       "      <td>YES</td>\n",
       "      <td>NO</td>\n",
       "      <td>YES</td>\n",
       "      <td>NO</td>\n",
       "      <td>NO</td>\n",
       "      <td>NO</td>\n",
       "      <td>NO</td>\n",
       "      <td>NO</td>\n",
       "      <td>2</td>\n",
       "      <td>1</td>\n",
       "      <td>1</td>\n",
       "      <td>Bipolar Type-2</td>\n",
       "    </tr>\n",
       "    <tr>\n",
       "      <th>4</th>\n",
       "      <td>3</td>\n",
       "      <td>3</td>\n",
       "      <td>2</td>\n",
       "      <td>2</td>\n",
       "      <td>NO</td>\n",
       "      <td>NO</td>\n",
       "      <td>NO</td>\n",
       "      <td>NO</td>\n",
       "      <td>NO</td>\n",
       "      <td>NO</td>\n",
       "      <td>NO</td>\n",
       "      <td>YES</td>\n",
       "      <td>YES</td>\n",
       "      <td>YES</td>\n",
       "      <td>3</td>\n",
       "      <td>3</td>\n",
       "      <td>3</td>\n",
       "      <td>Normal</td>\n",
       "    </tr>\n",
       "  </tbody>\n",
       "</table>\n",
       "</div>"
      ],
      "text/plain": [
       "   Sadness  Euphoric  Exhausted  Sleep dissorder Mood Swing Suicidal thoughts  \\\n",
       "0        3         1          2                2        YES              YES    \n",
       "1        3         1          3                2         NO               YES   \n",
       "2        2         4          2                2        YES                NO   \n",
       "3        3         1          3                4        YES               YES   \n",
       "4        3         3          2                2         NO                NO   \n",
       "\n",
       "  Anorxia Authority Respect Try-Explanation Aggressive Response  \\\n",
       "0      NO                NO             YES                  NO   \n",
       "1      NO                NO              NO                  NO   \n",
       "2      NO                NO             YES                 YES   \n",
       "3     YES                NO             YES                  NO   \n",
       "4      NO                NO              NO                  NO   \n",
       "\n",
       "  Ignore & Move-On Nervous Break-down Admit Mistakes Overthinking  \\\n",
       "0               NO                YES            YES          YES   \n",
       "1               NO                 NO             NO           NO   \n",
       "2               NO                YES            YES           NO   \n",
       "3               NO                 NO             NO           NO   \n",
       "4               NO                YES            YES          YES   \n",
       "\n",
       "   Sexual Activity  Concentration  Optimisim Expert Diagnose  \n",
       "0                2              2          2  Bipolar Type-2  \n",
       "1                2              1          3      Depression  \n",
       "2                3              3          4  Bipolar Type-1  \n",
       "3                2              1          1  Bipolar Type-2  \n",
       "4                3              3          3          Normal  "
      ]
     },
     "execution_count": 79,
     "metadata": {},
     "output_type": "execute_result"
    }
   ],
   "source": [
    "df['Sexual Activity'] = df['Sexual Activity'].map({'3 From 10':2, '4 From 10':2, '6 From 10':3, '5 From 10':3, '7 From 10':4, '8 From 10':4, '9 From 10':5, '2 From 10':1, '1 From 10':1})\n",
    "df['Concentration'] = df['Concentration'].map({'3 From 10':2, '4 From 10':2, '6 From 10':3, '5 From 10':3, '7 From 10':4, '8 From 10':4, '9 From 10':5, '2 From 10':1, '1 From 10':1}) \n",
    "df['Optimisim'] = df['Optimisim'].map({'3 From 10':2, '4 From 10':2, '6 From 10':3, '5 From 10':3, '7 From 10':4, '8 From 10':4, '9 From 10':5, '2 From 10':1, '1 From 10':1}) \n",
    "df.head()"
   ]
  },
  {
   "cell_type": "code",
   "execution_count": 80,
   "id": "c5ec5122",
   "metadata": {},
   "outputs": [
    {
     "data": {
      "text/plain": [
       "Expert Diagnose\n",
       "Bipolar Type-2    31\n",
       "Depression        31\n",
       "Normal            30\n",
       "Bipolar Type-1    28\n",
       "Name: count, dtype: int64"
      ]
     },
     "execution_count": 80,
     "metadata": {},
     "output_type": "execute_result"
    }
   ],
   "source": [
    "df['Expert Diagnose'].value_counts()"
   ]
  },
  {
   "cell_type": "code",
   "execution_count": 81,
   "id": "99cc19e6",
   "metadata": {},
   "outputs": [
    {
     "data": {
      "text/plain": [
       "Suicidal thoughts\n",
       "NO      63\n",
       "YES     56\n",
       "YES      1\n",
       "Name: count, dtype: int64"
      ]
     },
     "execution_count": 81,
     "metadata": {},
     "output_type": "execute_result"
    }
   ],
   "source": [
    "df['Suicidal thoughts'].value_counts()"
   ]
  },
  {
   "cell_type": "code",
   "execution_count": 88,
   "id": "4f6c3c92",
   "metadata": {},
   "outputs": [],
   "source": [
    "depression_mapping = {\n",
    "    'YES': 'YES',\n",
    "    'NO': 'NO',\n",
    "    'YES ': 'YES'\n",
    "}\n",
    "\n",
    "df['Suicidal thoughts'] = df['Suicidal thoughts'].map(depression_mapping)\n"
   ]
  },
  {
   "cell_type": "code",
   "execution_count": 124,
   "id": "89db5987",
   "metadata": {},
   "outputs": [
    {
     "data": {
      "text/plain": [
       "Suicidal thoughts\n",
       "NO     63\n",
       "YES    57\n",
       "Name: count, dtype: int64"
      ]
     },
     "execution_count": 124,
     "metadata": {},
     "output_type": "execute_result"
    }
   ],
   "source": [
    "df['Suicidal thoughts'].value_counts()"
   ]
  },
  {
   "cell_type": "code",
   "execution_count": 67,
   "id": "5c2fc88f",
   "metadata": {},
   "outputs": [],
   "source": [
    "# import pandas as pd\n",
    "\n",
    "# # Save the DataFrame to a CSV file\n",
    "# df.to_csv('df_new.csv', index=False)  # index=False prevents saving the index\n",
    "\n"
   ]
  },
  {
   "cell_type": "markdown",
   "id": "09aad46c-6c72-4f49-b3dd-2eccb9185e80",
   "metadata": {},
   "source": [
    "## Model fitting"
   ]
  },
  {
   "cell_type": "markdown",
   "id": "e279415d-d900-4125-bdf4-c13f708708d6",
   "metadata": {},
   "source": [
    "## RF"
   ]
  },
  {
   "cell_type": "code",
   "execution_count": 85,
   "id": "b83aff28-08d5-4eab-96f5-e67c2cedef72",
   "metadata": {},
   "outputs": [
    {
     "name": "stdout",
     "output_type": "stream",
     "text": [
      "Fitting 5 folds for each of 36 candidates, totalling 180 fits\n"
     ]
    }
   ],
   "source": [
    "\n",
    "from sklearn.model_selection import train_test_split\n",
    "from sklearn.preprocessing import OneHotEncoder\n",
    "from sklearn.compose import ColumnTransformer\n",
    "from imblearn.pipeline import Pipeline as ImbPipeline\n",
    "from sklearn.ensemble import RandomForestClassifier\n",
    "from sklearn.metrics import classification_report, confusion_matrix, accuracy_score\n",
    "from sklearn.model_selection import GridSearchCV\n",
    "from imblearn.over_sampling import SMOTE\n",
    "from sklearn.metrics import f1_score\n",
    "\n",
    "# Assuming df_internet_users is your original DataFrame\n",
    "df1 = df.copy()\n",
    "\n",
    "# Splitting the dataset into features and target\n",
    "X = df1.drop(['Expert Diagnose'], axis=1)\n",
    "y = df1['Expert Diagnose']\n",
    "\n",
    "# Train-test split\n",
    "X_train, X_test, y_train, y_test = train_test_split(X, y, test_size=0.2, random_state=15)\n",
    "\n",
    "# Identify categorical and numerical columns\n",
    "categorical_features = X.select_dtypes('object').columns\n",
    "numerical_features = X.select_dtypes(include=['float64', 'int64']).columns\n",
    "\n",
    "# Preprocessing\n",
    "preprocessor = ColumnTransformer(\n",
    "    transformers=[\n",
    "        ('num', 'passthrough', numerical_features),  # Pass through numerical features without scaling\n",
    "        ('cat', OneHotEncoder(drop='first', handle_unknown='ignore'), categorical_features)\n",
    "    ])\n",
    "\n",
    "# Create the full pipeline with preprocessing and model\n",
    "pipeline = ImbPipeline(steps=[\n",
    "    ('preprocessor', preprocessor),\n",
    "    ('smote', SMOTE(random_state=15)),\n",
    "    ('classifier', RandomForestClassifier(random_state=15))\n",
    "])\n",
    "\n",
    "# Define the hyperparameter grid to search\n",
    "param_grid = {\n",
    "    'classifier__n_estimators': [50, 100, 150],\n",
    "    'classifier__max_depth': [None, 5, 10, 15],\n",
    "    'classifier__min_samples_split': [2, 5, 10]\n",
    "}\n",
    "\n",
    "# Set up GridSearchCV\n",
    "grid_search = GridSearchCV(pipeline, param_grid, cv=5, n_jobs=-1, verbose=1)\n",
    "\n",
    "# Fit the GridSearchCV to the training data\n",
    "grid_search.fit(X_train, y_train)\n",
    "\n",
    "# Get the best model from the grid search\n",
    "rf_best_model = grid_search.best_estimator_\n",
    "\n",
    "\n"
   ]
  },
  {
   "cell_type": "code",
   "execution_count": 125,
   "id": "6832466d-fd6a-4812-ab21-780a570af8be",
   "metadata": {},
   "outputs": [
    {
     "name": "stdout",
     "output_type": "stream",
     "text": [
      "                precision    recall  f1-score   support\n",
      "\n",
      "Bipolar Type-1       1.00      0.95      0.97        20\n",
      "Bipolar Type-2       1.00      1.00      1.00        26\n",
      "    Depression       1.00      0.96      0.98        24\n",
      "        Normal       0.93      1.00      0.96        26\n",
      "\n",
      "      accuracy                           0.98        96\n",
      "     macro avg       0.98      0.98      0.98        96\n",
      "  weighted avg       0.98      0.98      0.98        96\n",
      "\n",
      "[[19  0  0  1]\n",
      " [ 0 26  0  0]\n",
      " [ 0  0 23  1]\n",
      " [ 0  0  0 26]]\n",
      "Accuracy: 0.9791666666666666\n",
      "F1_score: 0.9793081065244186\n"
     ]
    }
   ],
   "source": [
    "# train set\n",
    "# Optional: Evaluate the best model on the test set\n",
    "y_pred = rf_best_model.predict(X_train)\n",
    "print(classification_report(y_train, y_pred))\n",
    "print(confusion_matrix(y_train, y_pred))\n",
    "print(f'Accuracy: {accuracy_score(y_train, y_pred)}')\n",
    "print(f'F1_score: {f1_score(y_train, y_pred, average='weighted')}')\n"
   ]
  },
  {
   "cell_type": "code",
   "execution_count": 126,
   "id": "d66c28cf-a244-4406-b5a5-6a35a4b713ce",
   "metadata": {},
   "outputs": [
    {
     "name": "stdout",
     "output_type": "stream",
     "text": [
      "                precision    recall  f1-score   support\n",
      "\n",
      "Bipolar Type-1       1.00      0.75      0.86         8\n",
      "Bipolar Type-2       1.00      1.00      1.00         5\n",
      "    Depression       1.00      0.86      0.92         7\n",
      "        Normal       0.57      1.00      0.73         4\n",
      "\n",
      "      accuracy                           0.88        24\n",
      "     macro avg       0.89      0.90      0.88        24\n",
      "  weighted avg       0.93      0.88      0.88        24\n",
      "\n",
      "[[6 0 0 2]\n",
      " [0 5 0 0]\n",
      " [0 0 6 1]\n",
      " [0 0 0 4]]\n",
      "Accuracy: 0.875\n",
      "F1_score: 0.8844905094905097\n"
     ]
    }
   ],
   "source": [
    "# Optional: Evaluate the best model on the test set\n",
    "y_pred = rf_best_model.predict(X_test)\n",
    "print(classification_report(y_test, y_pred))\n",
    "print(confusion_matrix(y_test, y_pred))\n",
    "print(f'Accuracy: {accuracy_score(y_test, y_pred)}')\n",
    "print(f'F1_score: {f1_score(y_test, y_pred, average='weighted')}')"
   ]
  },
  {
   "cell_type": "code",
   "execution_count": 116,
   "id": "53508baf",
   "metadata": {},
   "outputs": [
    {
     "data": {
      "image/png": "[encoded data removed]",
      "text/plain": [
       "<Figure size 1000x600 with 1 Axes>"
      ]
     },
     "metadata": {},
     "output_type": "display_data"
    }
   ],
   "source": [
    "# Get the best model from GridSearchCV\n",
    "rf_best_model = grid_search.best_estimator_\n",
    "\n",
    "# Access the RandomForestClassifier step in the best model\n",
    "rf_classifier = rf_best_model.named_steps['classifier']\n",
    "\n",
    "# Get feature importances\n",
    "importances = rf_classifier.feature_importances_\n",
    "\n",
    "# Get the one-hot encoded feature names\n",
    "# First, fit the preprocessor to get transformed feature names\n",
    "preprocessor = rf_best_model.named_steps['preprocessor']\n",
    "preprocessor.fit(X_train)\n",
    "\n",
    "# Retrieve transformed feature names\n",
    "encoded_feature_names = preprocessor.get_feature_names_out()\n",
    "\n",
    "# Create a DataFrame for easy plotting\n",
    "importance_df = pd.DataFrame({\n",
    "    'feature': encoded_feature_names,\n",
    "    'importance': importances\n",
    "})\n",
    "\n",
    "# Sort the DataFrame by importance in descending order\n",
    "importance_df = importance_df.sort_values(by='importance', ascending=False)\n",
    "\n",
    "# Plot the feature importances\n",
    "plt.figure(figsize=(10, 6))\n",
    "sns.barplot(x='importance', y='feature', data=importance_df)  # Show top 10 features for clarity\n",
    "plt.title('Top 10 Feature Importances')\n",
    "plt.xlabel('Importance Score')\n",
    "plt.ylabel('Features')\n",
    "plt.show()\n"
   ]
  },
  {
   "cell_type": "code",
   "execution_count": 33,
   "id": "0ad3d7e8",
   "metadata": {},
   "outputs": [
    {
     "data": {
      "text/plain": [
       "Index(['Sadness', 'Euphoric', 'Exhausted', 'Sleep dissorder', 'Mood Swing',\n",
       "       'Suicidal thoughts', 'Anorxia', 'Authority Respect', 'Try-Explanation',\n",
       "       'Aggressive Response', 'Ignore & Move-On', 'Nervous Break-down',\n",
       "       'Admit Mistakes', 'Overthinking', 'Sexual Activity', 'Concentration',\n",
       "       'Optimisim'],\n",
       "      dtype='object')"
      ]
     },
     "execution_count": 33,
     "metadata": {},
     "output_type": "execute_result"
    }
   ],
   "source": [
    "X_train.columns"
   ]
  },
  {
   "cell_type": "code",
   "execution_count": 120,
   "id": "3f79a5b1",
   "metadata": {},
   "outputs": [],
   "source": [
    "import pickle\n",
    "\n",
    "\n",
    "with open('rf_model.pkl', 'wb') as f:\n",
    "    pickle.dump(rf_best_model, f)"
   ]
  },
  {
   "cell_type": "code",
   "execution_count": 132,
   "id": "d378f0c8",
   "metadata": {},
   "outputs": [
    {
     "data": {
      "text/plain": [
       "array(['Normal', 'Normal', 'Bipolar Type-2', 'Depression',\n",
       "       'Bipolar Type-1', 'Bipolar Type-2', 'Normal', 'Bipolar Type-1',\n",
       "       'Depression', 'Depression', 'Normal', 'Normal', 'Bipolar Type-2',\n",
       "       'Normal', 'Bipolar Type-2', 'Bipolar Type-1', 'Normal',\n",
       "       'Bipolar Type-1', 'Depression', 'Bipolar Type-2', 'Bipolar Type-1',\n",
       "       'Depression', 'Depression', 'Bipolar Type-1'], dtype=object)"
      ]
     },
     "execution_count": 132,
     "metadata": {},
     "output_type": "execute_result"
    }
   ],
   "source": [
    "y_pred"
   ]
  },
  {
   "cell_type": "code",
   "execution_count": 133,
   "id": "0a044d6f",
   "metadata": {},
   "outputs": [
    {
     "data": {
      "text/plain": [
       "Sadness                  4\n",
       "Euphoric                 1\n",
       "Exhausted                1\n",
       "Sleep dissorder          2\n",
       "Mood Swing              NO\n",
       "Suicidal thoughts       NO\n",
       "Anorxia                YES\n",
       "Authority Respect       NO\n",
       "Try-Explanation        YES\n",
       "Aggressive Response     NO\n",
       "Ignore & Move-On        NO\n",
       "Nervous Break-down     YES\n",
       "Admit Mistakes          NO\n",
       "Overthinking           YES\n",
       "Sexual Activity          2\n",
       "Concentration            2\n",
       "Optimisim                2\n",
       "Name: 109, dtype: object"
      ]
     },
     "execution_count": 133,
     "metadata": {},
     "output_type": "execute_result"
    }
   ],
   "source": [
    "X_test.iloc[3]"
   ]
  },
  {
   "cell_type": "markdown",
   "id": "11c405ed-4613-4f95-aa7e-3cbc41917b6d",
   "metadata": {},
   "source": [
    "### Logistic multinomial"
   ]
  },
  {
   "cell_type": "code",
   "execution_count": 90,
   "id": "1aa9f78d-6564-4497-a0b1-c13b85f03c91",
   "metadata": {},
   "outputs": [
    {
     "name": "stdout",
     "output_type": "stream",
     "text": [
      "Fitting 5 folds for each of 9 candidates, totalling 45 fits\n"
     ]
    },
    {
     "name": "stderr",
     "output_type": "stream",
     "text": [
      "C:\\Users\\Admin\\AppData\\Roaming\\Python\\Python312\\site-packages\\sklearn\\linear_model\\_logistic.py:1247: FutureWarning: 'multi_class' was deprecated in version 1.5 and will be removed in 1.7. From then on, it will always use 'multinomial'. Leave it to its default value to avoid this warning.\n",
      "  warnings.warn(\n",
      "C:\\Users\\Admin\\AppData\\Roaming\\Python\\Python312\\site-packages\\sklearn\\linear_model\\_logistic.py:469: ConvergenceWarning: lbfgs failed to converge (status=1):\n",
      "STOP: TOTAL NO. of ITERATIONS REACHED LIMIT.\n",
      "\n",
      "Increase the number of iterations (max_iter) or scale the data as shown in:\n",
      "    https://scikit-learn.org/stable/modules/preprocessing.html\n",
      "Please also refer to the documentation for alternative solver options:\n",
      "    https://scikit-learn.org/stable/modules/linear_model.html#logistic-regression\n",
      "  n_iter_i = _check_optimize_result(\n"
     ]
    }
   ],
   "source": [
    "from sklearn.linear_model import LogisticRegression\n",
    "\n",
    "# Multinomial Logistic Regression pipeline\n",
    "pipeline_logistic = ImbPipeline(steps=[\n",
    "    ('preprocessor', preprocessor),\n",
    "    ('smote', SMOTE(random_state=15)),\n",
    "    ('classifier', LogisticRegression(multi_class='multinomial', solver='lbfgs', random_state=15))\n",
    "])\n",
    "\n",
    "# Define the hyperparameter grid\n",
    "param_grid_logistic = {\n",
    "    'classifier__C': [0.1, 1, 10],\n",
    "    'classifier__max_iter': [100, 200, 300]\n",
    "}\n",
    "\n",
    "# Set up GridSearchCV\n",
    "grid_search_logistic = GridSearchCV(pipeline_logistic, param_grid_logistic, cv=5, n_jobs=-1, verbose=1)\n",
    "\n",
    "# Fit to training data\n",
    "grid_search_logistic.fit(X_train, y_train)\n",
    "\n",
    "# Best model\n",
    "logistic_best_model = grid_search_logistic.best_estimator_\n"
   ]
  },
  {
   "cell_type": "code",
   "execution_count": 91,
   "id": "b80ed919-e322-4d02-885c-84cd80eadb2d",
   "metadata": {},
   "outputs": [
    {
     "name": "stdout",
     "output_type": "stream",
     "text": [
      "                precision    recall  f1-score   support\n",
      "\n",
      "Bipolar Type-1       1.00      1.00      1.00        20\n",
      "Bipolar Type-2       1.00      1.00      1.00        26\n",
      "    Depression       1.00      1.00      1.00        24\n",
      "        Normal       1.00      1.00      1.00        26\n",
      "\n",
      "      accuracy                           1.00        96\n",
      "     macro avg       1.00      1.00      1.00        96\n",
      "  weighted avg       1.00      1.00      1.00        96\n",
      "\n",
      "[[20  0  0  0]\n",
      " [ 0 26  0  0]\n",
      " [ 0  0 24  0]\n",
      " [ 0  0  0 26]]\n",
      "Accuracy: 1.0\n",
      "F1_score: 1.0\n"
     ]
    }
   ],
   "source": [
    "# train set\n",
    "# Optional: Evaluate the best model on the test set\n",
    "y_pred = logistic_best_model.predict(X_train)\n",
    "print(classification_report(y_train, y_pred))\n",
    "print(confusion_matrix(y_train, y_pred))\n",
    "print(f'Accuracy: {accuracy_score(y_train, y_pred)}')\n",
    "print(f'F1_score: {f1_score(y_train, y_pred, average='weighted')}')"
   ]
  },
  {
   "cell_type": "code",
   "execution_count": 92,
   "id": "0e530c3d-d753-486b-becf-511e1a6db630",
   "metadata": {},
   "outputs": [
    {
     "name": "stdout",
     "output_type": "stream",
     "text": [
      "                precision    recall  f1-score   support\n",
      "\n",
      "Bipolar Type-1       1.00      0.50      0.67         8\n",
      "Bipolar Type-2       0.71      1.00      0.83         5\n",
      "    Depression       0.86      0.86      0.86         7\n",
      "        Normal       0.50      0.75      0.60         4\n",
      "\n",
      "      accuracy                           0.75        24\n",
      "     macro avg       0.77      0.78      0.74        24\n",
      "  weighted avg       0.82      0.75      0.75        24\n",
      "\n",
      "[[4 2 0 2]\n",
      " [0 5 0 0]\n",
      " [0 0 6 1]\n",
      " [0 0 1 3]]\n",
      "Accuracy: 0.75\n",
      "F1_score: 0.7458333333333332\n"
     ]
    }
   ],
   "source": [
    "# Optional: Evaluate the best model on the test set\n",
    "y_pred = logistic_best_model.predict(X_test)\n",
    "print(classification_report(y_test, y_pred))\n",
    "print(confusion_matrix(y_test, y_pred))\n",
    "print(f'Accuracy: {accuracy_score(y_test, y_pred)}')\n",
    "print(f'F1_score: {f1_score(y_test, y_pred, average='weighted')}')"
   ]
  },
  {
   "cell_type": "markdown",
   "id": "d5cf2686-a595-408a-8e6a-be4274808d4e",
   "metadata": {},
   "source": [
    "### KNN"
   ]
  },
  {
   "cell_type": "code",
   "execution_count": 93,
   "id": "23859674-5862-4f8a-a5e5-c5622329b9a0",
   "metadata": {},
   "outputs": [
    {
     "name": "stdout",
     "output_type": "stream",
     "text": [
      "Fitting 5 folds for each of 16 candidates, totalling 80 fits\n"
     ]
    },
    {
     "name": "stderr",
     "output_type": "stream",
     "text": [
      "C:\\Users\\Admin\\AppData\\Roaming\\Python\\Python312\\site-packages\\sklearn\\model_selection\\_search.py:1103: UserWarning: One or more of the test scores are non-finite: [       nan 0.79       0.70631579 0.70631579        nan 0.75842105\n",
      " 0.78       0.73842105        nan 0.74894737 0.70684211 0.72789474\n",
      "        nan 0.75894737 0.77052632 0.76      ]\n",
      "  warnings.warn(\n"
     ]
    }
   ],
   "source": [
    "from sklearn.neighbors import KNeighborsClassifier\n",
    "\n",
    "# KNN pipeline\n",
    "pipeline_knn = ImbPipeline(steps=[\n",
    "    ('preprocessor', preprocessor),\n",
    "    ('smote', SMOTE(random_state=15)),\n",
    "    ('classifier', KNeighborsClassifier())\n",
    "])\n",
    "\n",
    "# Define the hyperparameter grid\n",
    "param_grid_knn = {\n",
    "    'classifier__n_neighbors': [3, 5, 7, 9],\n",
    "    'classifier__weights': ['uniform', 'distance'],\n",
    "    'classifier__p': [1, 2]  # p=1 (Manhattan), p=2 (Euclidean)\n",
    "}\n",
    "\n",
    "# Set up GridSearchCV\n",
    "grid_search_knn = GridSearchCV(pipeline_knn, param_grid_knn, cv=5, n_jobs=-1, verbose=1)\n",
    "\n",
    "# Fit to training data\n",
    "grid_search_knn.fit(X_train, y_train)\n",
    "\n",
    "# Best model\n",
    "knn_best_model = grid_search_knn.best_estimator_\n"
   ]
  },
  {
   "cell_type": "code",
   "execution_count": 94,
   "id": "709000c7-e365-46b8-a7eb-bf5e0149c5d1",
   "metadata": {},
   "outputs": [
    {
     "name": "stdout",
     "output_type": "stream",
     "text": [
      "                precision    recall  f1-score   support\n",
      "\n",
      "Bipolar Type-1       1.00      1.00      1.00        20\n",
      "Bipolar Type-2       1.00      1.00      1.00        26\n",
      "    Depression       1.00      1.00      1.00        24\n",
      "        Normal       1.00      1.00      1.00        26\n",
      "\n",
      "      accuracy                           1.00        96\n",
      "     macro avg       1.00      1.00      1.00        96\n",
      "  weighted avg       1.00      1.00      1.00        96\n",
      "\n",
      "[[20  0  0  0]\n",
      " [ 0 26  0  0]\n",
      " [ 0  0 24  0]\n",
      " [ 0  0  0 26]]\n",
      "Accuracy: 1.0\n",
      "F1_score: 1.0\n"
     ]
    }
   ],
   "source": [
    "# train set\n",
    "# Optional: Evaluate the best model on the test set\n",
    "y_pred = knn_best_model.predict(X_train)\n",
    "print(classification_report(y_train, y_pred))\n",
    "print(confusion_matrix(y_train, y_pred))\n",
    "print(f'Accuracy: {accuracy_score(y_train, y_pred)}')\n",
    "print(f'F1_score: {f1_score(y_train, y_pred, average='weighted')}')"
   ]
  },
  {
   "cell_type": "code",
   "execution_count": 95,
   "id": "d0d7d7ec-707c-4d36-a274-0998cbfaed62",
   "metadata": {},
   "outputs": [
    {
     "name": "stdout",
     "output_type": "stream",
     "text": [
      "                precision    recall  f1-score   support\n",
      "\n",
      "Bipolar Type-1       0.83      0.62      0.71         8\n",
      "Bipolar Type-2       0.67      0.40      0.50         5\n",
      "    Depression       0.60      0.86      0.71         7\n",
      "        Normal       0.60      0.75      0.67         4\n",
      "\n",
      "      accuracy                           0.67        24\n",
      "     macro avg       0.68      0.66      0.65        24\n",
      "  weighted avg       0.69      0.67      0.66        24\n",
      "\n",
      "[[5 1 1 1]\n",
      " [0 2 3 0]\n",
      " [0 0 6 1]\n",
      " [1 0 0 3]]\n",
      "Accuracy: 0.6666666666666666\n",
      "F1_score: 0.6592553688141923\n"
     ]
    }
   ],
   "source": [
    "# Optional: Evaluate the best model on the test set\n",
    "y_pred = knn_best_model.predict(X_test)\n",
    "print(classification_report(y_test, y_pred))\n",
    "print(confusion_matrix(y_test, y_pred))\n",
    "print(f'Accuracy: {accuracy_score(y_test, y_pred)}')\n",
    "print(f'F1_score: {f1_score(y_test, y_pred, average='weighted')}')"
   ]
  },
  {
   "cell_type": "markdown",
   "id": "37913d82-13b2-41f4-992d-c0dea215f4cf",
   "metadata": {},
   "source": [
    "### GaussianNB"
   ]
  },
  {
   "cell_type": "code",
   "execution_count": 96,
   "id": "f7cfadca-ca29-481f-aded-c6c4b8607087",
   "metadata": {},
   "outputs": [
    {
     "name": "stdout",
     "output_type": "stream",
     "text": [
      "Fitting 5 folds for each of 1 candidates, totalling 5 fits\n"
     ]
    }
   ],
   "source": [
    "from sklearn.naive_bayes import GaussianNB\n",
    "\n",
    "# Gaussian Naive Bayes pipeline\n",
    "pipeline_gnb = ImbPipeline(steps=[\n",
    "    ('preprocessor', preprocessor),\n",
    "    ('smote', SMOTE(random_state=15)),\n",
    "    ('classifier', GaussianNB())\n",
    "])\n",
    "\n",
    "# Set up GridSearchCV (no hyperparameters to tune for GaussianNB)\n",
    "grid_search_gnb = GridSearchCV(pipeline_gnb, param_grid={}, cv=5, n_jobs=-1, verbose=1)\n",
    "\n",
    "# Fit to training data\n",
    "grid_search_gnb.fit(X_train, y_train)\n",
    "\n",
    "# Best model\n",
    "gnb_best_model = grid_search_gnb.best_estimator_\n"
   ]
  },
  {
   "cell_type": "code",
   "execution_count": 97,
   "id": "d2bcad5c-7119-4735-835d-a608cdf877df",
   "metadata": {},
   "outputs": [
    {
     "name": "stdout",
     "output_type": "stream",
     "text": [
      "                precision    recall  f1-score   support\n",
      "\n",
      "Bipolar Type-1       0.95      0.95      0.95        20\n",
      "Bipolar Type-2       0.96      0.96      0.96        26\n",
      "    Depression       0.73      1.00      0.84        24\n",
      "        Normal       1.00      0.65      0.79        26\n",
      "\n",
      "      accuracy                           0.89        96\n",
      "     macro avg       0.91      0.89      0.89        96\n",
      "  weighted avg       0.91      0.89      0.88        96\n",
      "\n",
      "[[19  0  1  0]\n",
      " [ 1 25  0  0]\n",
      " [ 0  0 24  0]\n",
      " [ 0  1  8 17]]\n",
      "Accuracy: 0.8854166666666666\n",
      "F1_score: 0.8830069359445125\n"
     ]
    }
   ],
   "source": [
    "# train set\n",
    "# Optional: Evaluate the best model on the test set\n",
    "y_pred = gnb_best_model.predict(X_train)\n",
    "print(classification_report(y_train, y_pred))\n",
    "print(confusion_matrix(y_train, y_pred))\n",
    "print(f'Accuracy: {accuracy_score(y_train, y_pred)}')\n",
    "print(f'F1_score: {f1_score(y_train, y_pred, average='weighted')}')"
   ]
  },
  {
   "cell_type": "code",
   "execution_count": 98,
   "id": "54c38428-839d-4d38-b012-e975076d80b8",
   "metadata": {},
   "outputs": [
    {
     "name": "stdout",
     "output_type": "stream",
     "text": [
      "                precision    recall  f1-score   support\n",
      "\n",
      "Bipolar Type-1       1.00      0.75      0.86         8\n",
      "Bipolar Type-2       1.00      1.00      1.00         5\n",
      "    Depression       0.70      1.00      0.82         7\n",
      "        Normal       0.67      0.50      0.57         4\n",
      "\n",
      "      accuracy                           0.83        24\n",
      "     macro avg       0.84      0.81      0.81        24\n",
      "  weighted avg       0.86      0.83      0.83        24\n",
      "\n",
      "[[6 0 1 1]\n",
      " [0 5 0 0]\n",
      " [0 0 7 0]\n",
      " [0 0 2 2]]\n",
      "Accuracy: 0.8333333333333334\n",
      "F1_score: 0.8294817927170869\n"
     ]
    }
   ],
   "source": [
    "# Optional: Evaluate the best model on the test set\n",
    "y_pred = gnb_best_model.predict(X_test)\n",
    "print(classification_report(y_test, y_pred))\n",
    "print(confusion_matrix(y_test, y_pred))\n",
    "print(f'Accuracy: {accuracy_score(y_test, y_pred)}')\n",
    "print(f'F1_score: {f1_score(y_test, y_pred, average='weighted')}')"
   ]
  },
  {
   "cell_type": "markdown",
   "id": "43e4ebd1-64e0-491c-9b68-606c78c3f40e",
   "metadata": {},
   "source": [
    "### SVM"
   ]
  },
  {
   "cell_type": "code",
   "execution_count": 99,
   "id": "9191253e-231d-4ade-a761-e02534a51b61",
   "metadata": {},
   "outputs": [
    {
     "name": "stdout",
     "output_type": "stream",
     "text": [
      "Fitting 5 folds for each of 12 candidates, totalling 60 fits\n"
     ]
    }
   ],
   "source": [
    "from sklearn.svm import SVC\n",
    "\n",
    "# SVM pipeline\n",
    "pipeline_svm = ImbPipeline(steps=[\n",
    "    ('preprocessor', preprocessor),\n",
    "    ('smote', SMOTE(random_state=15)),\n",
    "    ('classifier', SVC(random_state=15))\n",
    "])\n",
    "\n",
    "# Define the hyperparameter grid\n",
    "param_grid_svm = {\n",
    "    'classifier__C': [0.1, 1, 10],\n",
    "    'classifier__kernel': ['linear', 'rbf'],\n",
    "    'classifier__gamma': ['scale', 'auto']\n",
    "}\n",
    "\n",
    "# Set up GridSearchCV\n",
    "grid_search_svm = GridSearchCV(pipeline_svm, param_grid_svm, cv=5, n_jobs=-1, verbose=1)\n",
    "\n",
    "# Fit to training data\n",
    "grid_search_svm.fit(X_train, y_train)\n",
    "\n",
    "# Best model\n",
    "svm_best_model = grid_search_svm.best_estimator_\n"
   ]
  },
  {
   "cell_type": "code",
   "execution_count": 100,
   "id": "f654b73c-486a-4376-bd85-fee16fca2db9",
   "metadata": {},
   "outputs": [
    {
     "name": "stdout",
     "output_type": "stream",
     "text": [
      "                precision    recall  f1-score   support\n",
      "\n",
      "Bipolar Type-1       0.83      0.95      0.88        20\n",
      "Bipolar Type-2       0.96      0.92      0.94        26\n",
      "    Depression       0.95      0.88      0.91        24\n",
      "        Normal       0.96      0.96      0.96        26\n",
      "\n",
      "      accuracy                           0.93        96\n",
      "     macro avg       0.93      0.93      0.92        96\n",
      "  weighted avg       0.93      0.93      0.93        96\n",
      "\n",
      "[[19  1  0  0]\n",
      " [ 2 24  0  0]\n",
      " [ 2  0 21  1]\n",
      " [ 0  0  1 25]]\n",
      "Accuracy: 0.9270833333333334\n",
      "F1_score: 0.9276880241479807\n"
     ]
    }
   ],
   "source": [
    "# train set\n",
    "# Optional: Evaluate the best model on the test set\n",
    "y_pred = svm_best_model.predict(X_train)\n",
    "print(classification_report(y_train, y_pred))\n",
    "print(confusion_matrix(y_train, y_pred))\n",
    "print(f'Accuracy: {accuracy_score(y_train, y_pred)}')\n",
    "print(f'F1_score: {f1_score(y_train, y_pred, average='weighted')}')"
   ]
  },
  {
   "cell_type": "code",
   "execution_count": 112,
   "id": "2d0eb8d3-e107-45db-bb21-aa48879a6cc9",
   "metadata": {},
   "outputs": [
    {
     "name": "stdout",
     "output_type": "stream",
     "text": [
      "                precision    recall  f1-score   support\n",
      "\n",
      "Bipolar Type-1       0.88      0.88      0.88         8\n",
      "Bipolar Type-2       1.00      1.00      1.00         5\n",
      "    Depression       1.00      1.00      1.00         7\n",
      "        Normal       0.75      0.75      0.75         4\n",
      "\n",
      "      accuracy                           0.92        24\n",
      "     macro avg       0.91      0.91      0.91        24\n",
      "  weighted avg       0.92      0.92      0.92        24\n",
      "\n",
      "[[7 0 0 1]\n",
      " [0 5 0 0]\n",
      " [0 0 7 0]\n",
      " [1 0 0 3]]\n",
      "Accuracy: 0.9166666666666666\n",
      "F1_score: 0.9166666666666666\n"
     ]
    }
   ],
   "source": [
    "# Optional: Evaluate the best model on the test set\n",
    "y_pred = svm_best_model.predict(X_test)\n",
    "print(classification_report(y_test, y_pred))\n",
    "print(confusion_matrix(y_test, y_pred))\n",
    "print(f'Accuracy: {accuracy_score(y_test, y_pred)}')\n",
    "print(f'F1_score: {f1_score(y_test, y_pred, average='weighted')}')"
   ]
  },
  {
   "cell_type": "code",
   "execution_count": null,
   "id": "a80c3a70",
   "metadata": {},
   "outputs": [],
   "source": []
  },
  {
   "cell_type": "markdown",
   "id": "85cad4a4-6997-4214-af55-3ae20e907d2c",
   "metadata": {},
   "source": [
    "### XGBoost"
   ]
  },
  {
   "cell_type": "code",
   "execution_count": 102,
   "id": "2665f81f-f01b-4524-832a-54128e7b717d",
   "metadata": {},
   "outputs": [
    {
     "name": "stdout",
     "output_type": "stream",
     "text": [
      "Fitting 5 folds for each of 243 candidates, totalling 1215 fits\n"
     ]
    },
    {
     "name": "stderr",
     "output_type": "stream",
     "text": [
      "C:\\Users\\Admin\\AppData\\Roaming\\Python\\Python312\\site-packages\\xgboost\\core.py:158: UserWarning: [19:48:23] WARNING: C:\\buildkite-agent\\builds\\buildkite-windows-cpu-autoscaling-group-i-0015a694724fa8361-1\\xgboost\\xgboost-ci-windows\\src\\learner.cc:740: \n",
      "Parameters: { \"use_label_encoder\" } are not used.\n",
      "\n",
      "  warnings.warn(smsg, UserWarning)\n"
     ]
    }
   ],
   "source": [
    "from sklearn.preprocessing import LabelEncoder\n",
    "from xgboost import XGBClassifier\n",
    "\n",
    "# Initialize label encoder\n",
    "label_encoder = LabelEncoder()\n",
    "\n",
    "# Encode target labels\n",
    "y_train_encoded = label_encoder.fit_transform(y_train)\n",
    "y_test_encoded = label_encoder.transform(y_test)\n",
    "\n",
    "# XGBoost pipeline\n",
    "pipeline_xgb = ImbPipeline(steps=[\n",
    "    ('preprocessor', preprocessor),\n",
    "    ('smote', SMOTE(random_state=15)),\n",
    "    ('classifier', XGBClassifier(use_label_encoder=False, eval_metric='logloss', random_state=15))\n",
    "])\n",
    "\n",
    "# Define the hyperparameter grid\n",
    "param_grid_xgb = {\n",
    "    'classifier__n_estimators': [50, 100, 150],\n",
    "    'classifier__learning_rate': [0.01, 0.1, 0.2],\n",
    "    'classifier__max_depth': [3, 5, 7],\n",
    "    'classifier__subsample': [0.7, 0.8, 1.0],\n",
    "    'classifier__colsample_bytree': [0.7, 0.8, 1.0]\n",
    "}\n",
    "\n",
    "# Set up GridSearchCV\n",
    "grid_search_xgb = GridSearchCV(pipeline_xgb, param_grid_xgb, cv=5, n_jobs=-1, verbose=1)\n",
    "\n",
    "# Fit to encoded training data\n",
    "grid_search_xgb.fit(X_train, y_train_encoded)\n",
    "\n",
    "# Best model\n",
    "xgb_best_model = grid_search_xgb.best_estimator_\n",
    "\n",
    "# If you need predictions in original labels\n",
    "predictions_encoded = xgb_best_model.predict(X_test)\n",
    "predictions = label_encoder.inverse_transform(predictions_encoded)\n"
   ]
  },
  {
   "cell_type": "code",
   "execution_count": 104,
   "id": "73cd8465-86b4-4d5c-a9da-e35ffc2dd83b",
   "metadata": {},
   "outputs": [
    {
     "name": "stdout",
     "output_type": "stream",
     "text": [
      "              precision    recall  f1-score   support\n",
      "\n",
      "           0       1.00      1.00      1.00        20\n",
      "           1       1.00      1.00      1.00        26\n",
      "           2       1.00      1.00      1.00        24\n",
      "           3       1.00      1.00      1.00        26\n",
      "\n",
      "    accuracy                           1.00        96\n",
      "   macro avg       1.00      1.00      1.00        96\n",
      "weighted avg       1.00      1.00      1.00        96\n",
      "\n",
      "[[20  0  0  0]\n",
      " [ 0 26  0  0]\n",
      " [ 0  0 24  0]\n",
      " [ 0  0  0 26]]\n",
      "Accuracy: 1.0\n",
      "F1_score: 1.0\n"
     ]
    },
    {
     "name": "stderr",
     "output_type": "stream",
     "text": [
      "C:\\Users\\Admin\\AppData\\Roaming\\Python\\Python312\\site-packages\\xgboost\\core.py:158: UserWarning: [19:49:02] WARNING: C:\\buildkite-agent\\builds\\buildkite-windows-cpu-autoscaling-group-i-0015a694724fa8361-1\\xgboost\\xgboost-ci-windows\\src\\learner.cc:740: \n",
      "Parameters: { \"use_label_encoder\" } are not used.\n",
      "\n",
      "  warnings.warn(smsg, UserWarning)\n"
     ]
    }
   ],
   "source": [
    "# trainset\n",
    "from sklearn.preprocessing import LabelEncoder\n",
    "\n",
    "# Encode labels\n",
    "label_encoder = LabelEncoder()\n",
    "y_train_encoded = label_encoder.fit_transform(y_train)\n",
    "\n",
    "# Train model\n",
    "xgb_best_model.fit(X_train, y_train_encoded)\n",
    "\n",
    "# Predict and evaluate\n",
    "y_pred = xgb_best_model.predict(X_train)\n",
    "print(classification_report(y_train_encoded, y_pred))\n",
    "print(confusion_matrix(y_train_encoded, y_pred))\n",
    "print(f'Accuracy: {accuracy_score(y_train_encoded, y_pred)}')\n",
    "print(f'F1_score: {f1_score(y_train_encoded, y_pred, average='weighted')}')"
   ]
  },
  {
   "cell_type": "code",
   "execution_count": 105,
   "id": "1a09d058-f656-4d03-a20f-77dd1242a243",
   "metadata": {},
   "outputs": [
    {
     "name": "stdout",
     "output_type": "stream",
     "text": [
      "              precision    recall  f1-score   support\n",
      "\n",
      "           0       1.00      0.75      0.86         8\n",
      "           1       0.83      1.00      0.91         5\n",
      "           2       0.86      0.86      0.86         7\n",
      "           3       0.60      0.75      0.67         4\n",
      "\n",
      "    accuracy                           0.83        24\n",
      "   macro avg       0.82      0.84      0.82        24\n",
      "weighted avg       0.86      0.83      0.84        24\n",
      "\n",
      "[[6 1 0 1]\n",
      " [0 5 0 0]\n",
      " [0 0 6 1]\n",
      " [0 0 1 3]]\n",
      "Accuracy: 0.8333333333333334\n",
      "F1_score: 0.8362193362193362\n"
     ]
    }
   ],
   "source": [
    "# Optional: Evaluate the best model on the test set\n",
    "# Encode labels\n",
    "label_encoder = LabelEncoder()\n",
    "y_test_encoded = label_encoder.fit_transform(y_test)\n",
    "\n",
    "y_pred = xgb_best_model.predict(X_test)\n",
    "print(classification_report(y_test_encoded, y_pred))\n",
    "print(confusion_matrix(y_test_encoded, y_pred))\n",
    "print(f'Accuracy: {accuracy_score(y_test_encoded, y_pred)}')\n",
    "print(f'F1_score: {f1_score(y_test_encoded, y_pred, average='weighted')}')"
   ]
  },
  {
   "cell_type": "markdown",
   "id": "73916684-b09e-4bc7-afeb-7a8205ce9c57",
   "metadata": {},
   "source": [
    "### ADA boost"
   ]
  },
  {
   "cell_type": "code",
   "execution_count": 106,
   "id": "8edb2944-cf6b-4985-9935-7df8d087d751",
   "metadata": {},
   "outputs": [
    {
     "name": "stdout",
     "output_type": "stream",
     "text": [
      "Fitting 5 folds for each of 9 candidates, totalling 45 fits\n"
     ]
    },
    {
     "name": "stderr",
     "output_type": "stream",
     "text": [
      "C:\\Users\\Admin\\AppData\\Roaming\\Python\\Python312\\site-packages\\sklearn\\ensemble\\_weight_boosting.py:527: FutureWarning: The SAMME.R algorithm (the default) is deprecated and will be removed in 1.6. Use the SAMME algorithm to circumvent this warning.\n",
      "  warnings.warn(\n"
     ]
    }
   ],
   "source": [
    "from sklearn.ensemble import AdaBoostClassifier\n",
    "from sklearn.tree import DecisionTreeClassifier\n",
    "\n",
    "# AdaBoost pipeline\n",
    "pipeline_ada = ImbPipeline(steps=[\n",
    "    ('preprocessor', preprocessor),\n",
    "    ('smote', SMOTE(random_state=15)),\n",
    "    ('classifier', AdaBoostClassifier(estimator=DecisionTreeClassifier(max_depth=1), random_state=15))\n",
    "])\n",
    "\n",
    "# Define the hyperparameter grid\n",
    "param_grid_ada = {\n",
    "    'classifier__n_estimators': [50, 100, 150],\n",
    "    'classifier__learning_rate': [0.01, 0.1, 1.0]\n",
    "}\n",
    "\n",
    "# Set up GridSearchCV\n",
    "grid_search_ada = GridSearchCV(pipeline_ada, param_grid_ada, cv=5, n_jobs=-1, verbose=1)\n",
    "\n",
    "# Fit to training data\n",
    "grid_search_ada.fit(X_train, y_train)\n",
    "\n",
    "# Best model\n",
    "ada_best_model = grid_search_ada.best_estimator_\n"
   ]
  },
  {
   "cell_type": "code",
   "execution_count": 107,
   "id": "0f76e54f-c474-49cc-af2f-4950f5c34ad1",
   "metadata": {},
   "outputs": [
    {
     "name": "stdout",
     "output_type": "stream",
     "text": [
      "                precision    recall  f1-score   support\n",
      "\n",
      "Bipolar Type-1       0.90      0.95      0.93        20\n",
      "Bipolar Type-2       0.96      0.92      0.94        26\n",
      "    Depression       0.86      1.00      0.92        24\n",
      "        Normal       0.95      0.81      0.88        26\n",
      "\n",
      "      accuracy                           0.92        96\n",
      "     macro avg       0.92      0.92      0.92        96\n",
      "  weighted avg       0.92      0.92      0.92        96\n",
      "\n",
      "[[19  0  0  1]\n",
      " [ 2 24  0  0]\n",
      " [ 0  0 24  0]\n",
      " [ 0  1  4 21]]\n",
      "Accuracy: 0.9166666666666666\n",
      "F1_score: 0.9157397891145201\n"
     ]
    }
   ],
   "source": [
    "# train set\n",
    "# Optional: Evaluate the best model on the test set\n",
    "y_pred = ada_best_model.predict(X_train)\n",
    "print(classification_report(y_train, y_pred))\n",
    "print(confusion_matrix(y_train, y_pred))\n",
    "print(f'Accuracy: {accuracy_score(y_train, y_pred)}')\n",
    "print(f'F1_score: {f1_score(y_train, y_pred, average='weighted')}')"
   ]
  },
  {
   "cell_type": "code",
   "execution_count": 108,
   "id": "bc156752-f90c-429c-8b41-440dc964baf5",
   "metadata": {},
   "outputs": [
    {
     "name": "stdout",
     "output_type": "stream",
     "text": [
      "                precision    recall  f1-score   support\n",
      "\n",
      "Bipolar Type-1       1.00      0.62      0.77         8\n",
      "Bipolar Type-2       0.83      1.00      0.91         5\n",
      "    Depression       0.78      1.00      0.88         7\n",
      "        Normal       0.50      0.50      0.50         4\n",
      "\n",
      "      accuracy                           0.79        24\n",
      "     macro avg       0.78      0.78      0.76        24\n",
      "  weighted avg       0.82      0.79      0.78        24\n",
      "\n",
      "[[5 1 0 2]\n",
      " [0 5 0 0]\n",
      " [0 0 7 0]\n",
      " [0 0 2 2]]\n",
      "Accuracy: 0.7916666666666666\n",
      "F1_score: 0.7843458624708625\n"
     ]
    }
   ],
   "source": [
    "# Optional: Evaluate the best model on the test set\n",
    "y_pred = ada_best_model.predict(X_test)\n",
    "print(classification_report(y_test, y_pred))\n",
    "print(confusion_matrix(y_test, y_pred))\n",
    "print(f'Accuracy: {accuracy_score(y_test, y_pred)}')\n",
    "print(f'F1_score: {f1_score(y_test, y_pred, average='weighted')}')"
   ]
  },
  {
   "cell_type": "markdown",
   "id": "8acfb1a7-c562-45e6-b1ce-f663c4307f85",
   "metadata": {},
   "source": [
    "### Multilayer perceptron"
   ]
  },
  {
   "cell_type": "code",
   "execution_count": 109,
   "id": "65a92ce2-3d34-44ec-85a6-415fafb98715",
   "metadata": {},
   "outputs": [
    {
     "name": "stdout",
     "output_type": "stream",
     "text": [
      "Fitting 5 folds for each of 24 candidates, totalling 120 fits\n"
     ]
    }
   ],
   "source": [
    "from sklearn.neural_network import MLPClassifier\n",
    "\n",
    "# MLP pipeline\n",
    "pipeline_mlp = ImbPipeline(steps=[\n",
    "    ('preprocessor', preprocessor),\n",
    "    ('smote', SMOTE(random_state=15)),\n",
    "    ('classifier', MLPClassifier(max_iter=500, random_state=15))\n",
    "])\n",
    "\n",
    "# Define the hyperparameter grid\n",
    "param_grid_mlp = {\n",
    "    'classifier__hidden_layer_sizes': [(50,), (100,), (50, 50)],\n",
    "    'classifier__activation': ['relu', 'tanh'],\n",
    "    'classifier__learning_rate_init': [0.001, 0.01],\n",
    "    'classifier__alpha': [0.0001, 0.001]  # L2 regularization\n",
    "}\n",
    "\n",
    "# Set up GridSearchCV\n",
    "grid_search_mlp = GridSearchCV(pipeline_mlp, param_grid_mlp, cv=5, n_jobs=-1, verbose=1)\n",
    "\n",
    "# Fit to training data\n",
    "grid_search_mlp.fit(X_train, y_train)\n",
    "\n",
    "# Best model\n",
    "mlp_best_model = grid_search_mlp.best_estimator_\n"
   ]
  },
  {
   "cell_type": "code",
   "execution_count": 110,
   "id": "3c12bfb7-00d9-4d22-b527-385148b84201",
   "metadata": {},
   "outputs": [
    {
     "name": "stdout",
     "output_type": "stream",
     "text": [
      "                precision    recall  f1-score   support\n",
      "\n",
      "Bipolar Type-1       1.00      1.00      1.00        20\n",
      "Bipolar Type-2       1.00      1.00      1.00        26\n",
      "    Depression       1.00      1.00      1.00        24\n",
      "        Normal       1.00      1.00      1.00        26\n",
      "\n",
      "      accuracy                           1.00        96\n",
      "     macro avg       1.00      1.00      1.00        96\n",
      "  weighted avg       1.00      1.00      1.00        96\n",
      "\n",
      "[[20  0  0  0]\n",
      " [ 0 26  0  0]\n",
      " [ 0  0 24  0]\n",
      " [ 0  0  0 26]]\n",
      "Accuracy: 1.0\n",
      "F1_score: 1.0\n"
     ]
    }
   ],
   "source": [
    "# train set\n",
    "# Optional: Evaluate the best model on the test set\n",
    "y_pred = mlp_best_model.predict(X_train)\n",
    "print(classification_report(y_train, y_pred))\n",
    "print(confusion_matrix(y_train, y_pred))\n",
    "print(f'Accuracy: {accuracy_score(y_train, y_pred)}')\n",
    "print(f'F1_score: {f1_score(y_train, y_pred, average='weighted')}')"
   ]
  },
  {
   "cell_type": "code",
   "execution_count": 111,
   "id": "026c4c94-d3c5-470e-8c37-715a4fb1ff2a",
   "metadata": {},
   "outputs": [
    {
     "name": "stdout",
     "output_type": "stream",
     "text": [
      "                precision    recall  f1-score   support\n",
      "\n",
      "Bipolar Type-1       1.00      0.75      0.86         8\n",
      "Bipolar Type-2       0.71      1.00      0.83         5\n",
      "    Depression       0.86      0.86      0.86         7\n",
      "        Normal       0.75      0.75      0.75         4\n",
      "\n",
      "      accuracy                           0.83        24\n",
      "     macro avg       0.83      0.84      0.82        24\n",
      "  weighted avg       0.86      0.83      0.83        24\n",
      "\n",
      "[[6 2 0 0]\n",
      " [0 5 0 0]\n",
      " [0 0 6 1]\n",
      " [0 0 1 3]]\n",
      "Accuracy: 0.8333333333333334\n",
      "F1_score: 0.8343253968253969\n"
     ]
    }
   ],
   "source": [
    "# Optional: Evaluate the best model on the test set\n",
    "y_pred = mlp_best_model.predict(X_test)\n",
    "print(classification_report(y_test, y_pred))\n",
    "print(confusion_matrix(y_test, y_pred))\n",
    "print(f'Accuracy: {accuracy_score(y_test, y_pred)}')\n",
    "print(f'F1_score: {f1_score(y_test, y_pred, average='weighted')}')"
   ]
  },
  {
   "cell_type": "code",
   "execution_count": null,
   "id": "f9c4b278-41d3-4055-846b-deca36ef9c34",
   "metadata": {},
   "outputs": [],
   "source": []
  }
 ],
 "metadata": {
  "kernelspec": {
   "display_name": "Python 3",
   "language": "python",
   "name": "python3"
  },
  "language_info": {
   "codemirror_mode": {
    "name": "ipython",
    "version": 3
   },
   "file_extension": ".py",
   "mimetype": "text/x-python",
   "name": "python",
   "nbconvert_exporter": "python",
   "pygments_lexer": "ipython3",
   "version": "3.12.6"
  }
 },
 "nbformat": 4,
 "nbformat_minor": 5
}
